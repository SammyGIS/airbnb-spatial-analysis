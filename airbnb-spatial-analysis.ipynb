{
 "cells": [
  {
   "cell_type": "markdown",
   "metadata": {},
   "source": [
    "# 🌐🌏 Spatial Analysis of Airbnb and Housing Market  Dynamics in the UK 🏠💹\n",
    "\n",
    "## Introduction\n",
    "The focus here is a GIS task - to demonstrate the spatial relationship between the Airbnb data with other factors such as housing prices, and the short to let market. Using the datasets that I have shared here and using your own research, can you answer a series of research questions using spatial data science principles. \n",
    "\n",
    "For the study on the spatial relationship between Airbnb data, housing prices, and the short-let market in the UK, here's how you can structure the **Overview of the Study** and **Objectives** sections, incorporating the spatial data science methods mentioned.\n",
    "\n",
    "This codebook outlines the variables, data sources, and spatial data science methods that will be used in the analysis of Airbnb listings and their impact on housing prices and the short-let market in the UK. I require this in python. \n",
    "\n",
    "### Overview of the Study\n",
    "This study explores the intricate spatial dynamics between Airbnb listings, housing prices, and the short-let market in the UK. With the rapid growth of Airbnb, its influence on local housing markets has become a critical issue. This study employs advanced spatial data science techniques to analyze the distribution and impact of Airbnb listings across various regions in the UK. By integrating data on housing prices, short-let markets, and Airbnb activity, the research aims to uncover patterns and relationships that inform policy-making, urban planning, and real estate investment strategies.\n",
    "\n",
    "### Objectives\n",
    "1. **Map the Spatial Distribution of Airbnb Listings:**\n",
    "2. **Identify Clusters and Spatial Patterns:**\n",
    "3. **Analyze the Impact of Proximity to Amenities:**\n",
    "4. **Examine the Relationship Between Airbnb Listings and Housing Prices:**\n",
    "5. **Visualize Socioeconomic Factors and Airbnb Density:**\n",
    "6. **Assess the Impact of Airbnb on Local Housing Markets:**\n",
    "7. **Evaluate Connectivity and Accessibility:**\n",
    "\n",
    "\n",
    "These objectives will guide the study in systematically uncovering the spatial relationships between Airbnb activity, housing prices, and the short-let market, providing insights into the broader impact of short-term rentals on local housing dynamics in the UK."
   ]
  },
  {
   "cell_type": "markdown",
   "metadata": {},
   "source": []
  },
  {
   "cell_type": "markdown",
   "metadata": {},
   "source": [
    "## Variables\n",
    "\n",
    "### Airbnb Data\n",
    "- **listing_id**: Unique identifier for Airbnb listing.\n",
    "- **latitude**: Latitude coordinate of listing/property/area.\n",
    "- **longitude**: Longitude coordinate of listing/property/area.\n",
    "- **price_per_night**: Price per night for Airbnb listing.\n",
    "- **availability_365**: Number of days listing is available in a year.\n",
    "- **number_of_reviews**: Total number of reviews for Airbnb listing.\n",
    "- **neighbourhood**: Name of the neighborhood of Airbnb listing.\n",
    "\n",
    "### Property Data\n",
    "- **postcode**: Postal code of property/area (Source: Housing Prices, Short-let, ONS Data).\n",
    "- **price**: Sale price of property (Source: UK House Price Index - UKHPI).\n",
    "- **date_of_sale**: Date when the property was sold (Source: UK House Price Index - UKHPI).\n",
    "- **property_type**: Type of property (detached, semi-detached, etc.) (Source: UK House Price Index - UKHPI).\n",
    "- **rental_price**: Monthly rental price of short-let property (Source: Short-let Market Data).\n",
    "- **availability_status**: Current availability status of short-let property (Source: Short-let Market Data).\n",
    "\n",
    "### Socioeconomic Data\n",
    "- **median_income**: Median household income for area (Source: ONS Data).\n",
    "- **population_density**: Population density of area (Source: ONS Data).\n",
    "- **unemployment_rate**: Unemployment rate for area (Source: ONS Data).\n",
    "\n",
    "### Geographical Data\n",
    "- **boundary_polygon**: Polygon representing geographical boundaries (Source: Ordnance Survey Data)."
   ]
  },
  {
   "cell_type": "markdown",
   "metadata": {},
   "source": [
    "## Data Sources\n",
    "\n",
    "- **Airbnb Data**: Data related to Airbnb listings, including pricing and reviews.\n",
    "- **UK House Price Index (UKHPI)**: Provides information on property sales prices and property types.\n",
    "- **Short-let Market Data**: Contains data on short-let rental prices and availability.\n",
    "- **ONS Data**: Includes socioeconomic indicators such as median income, population density, and unemployment rate.\n",
    "- **Ordnance Survey Data**: Provides geographical boundaries for the areas in question.\n"
   ]
  },
  {
   "cell_type": "markdown",
   "metadata": {},
   "source": []
  },
  {
   "cell_type": "markdown",
   "metadata": {},
   "source": [
    "## Install all the required libraries"
   ]
  },
  {
   "cell_type": "code",
   "execution_count": 2,
   "metadata": {},
   "outputs": [],
   "source": [
    "# data analysis\n",
    "import pandas as pd\n",
    "# import scipy\n",
    "# import statmodel\n",
    "\n",
    "\n",
    "# spatail anlaysis\n",
    "import geopandas as gpd\n",
    "# import osmnx\n",
    "# import geopy\n",
    "# import pysal\n",
    "\n",
    "# data visualization\n",
    "import seaborn as sns\n",
    "import matplotlib.pyplot as plt\n",
    "# import convetex\n",
    "# import folium\n"
   ]
  },
  {
   "cell_type": "markdown",
   "metadata": {},
   "source": [
    "## Data Import and Pre-processing: \n",
    "\n",
    "Importing datasets (Airbnb, housing prices, short-let market data, etc.). Cleaning and pre-processing data, including geocoding."
   ]
  },
  {
   "cell_type": "code",
   "execution_count": 5,
   "metadata": {},
   "outputs": [],
   "source": [
    "# read all data \n",
    "airbnb_path = \"data/Airbnb listings.csv\"\n",
    "boudnary_path = \"data/house_pricing\"\n",
    "scrapped_market = \"data/shortlet_market_data.csv\"\n",
    "demo_data =\"\"\n"
   ]
  },
  {
   "cell_type": "code",
   "execution_count": null,
   "metadata": {},
   "outputs": [],
   "source": []
  },
  {
   "cell_type": "code",
   "execution_count": null,
   "metadata": {},
   "outputs": [],
   "source": [
    "# get all the data scarapped from all the sources\n",
    "omt_data = \n",
    "rightmove_data =\n",
    "zoopla_data = "
   ]
  },
  {
   "cell_type": "code",
   "execution_count": null,
   "metadata": {},
   "outputs": [],
   "source": []
  },
  {
   "cell_type": "code",
   "execution_count": null,
   "metadata": {},
   "outputs": [],
   "source": []
  },
  {
   "cell_type": "code",
   "execution_count": null,
   "metadata": {},
   "outputs": [],
   "source": []
  },
  {
   "cell_type": "code",
   "execution_count": null,
   "metadata": {},
   "outputs": [],
   "source": []
  },
  {
   "cell_type": "markdown",
   "metadata": {},
   "source": []
  },
  {
   "cell_type": "markdown",
   "metadata": {},
   "source": [
    "## Exploratory Data Analysis (EDA)\n",
    "\n",
    "\n",
    "Descriptive statistics and initial visualizations of key variables.\n",
    "\n",
    "Explore the data\n",
    "Answers the following Questions from the the Airbnb Data\n",
    "\n",
    "* Spatial Distribution\n",
    "* Property Type Insights\n",
    "* Room Type Comparisons\n",
    "* Capacity and Pricing Analysis:*\n",
    "* Amenities and Pricing\n",
    "* Bathroom and Bedroom Analysis\n",
    "* Review Scores Examination\n",
    "* Trend Analysis\n",
    "* Outlier Detection\n"
   ]
  },
  {
   "cell_type": "markdown",
   "metadata": {},
   "source": [
    "### Airbnb Data"
   ]
  },
  {
   "cell_type": "markdown",
   "metadata": {},
   "source": [
    "**Spatial Distribution:**\n",
    "- How does the spatial distribution of listings with high review scores compare to those with lower scores?\n",
    "- Are there specific areas where higher-priced properties tend to cluster?\n",
    "- How does the average price of listings vary by neighborhood or neighborhood group?\n",
    "- Are there significant differences in average review scores between different neighborhoods or neighborhood groups?"
   ]
  },
  {
   "cell_type": "code",
   "execution_count": 7,
   "metadata": {},
   "outputs": [
    {
     "data": {
      "text/html": [
       "<div>\n",
       "<style scoped>\n",
       "    .dataframe tbody tr th:only-of-type {\n",
       "        vertical-align: middle;\n",
       "    }\n",
       "\n",
       "    .dataframe tbody tr th {\n",
       "        vertical-align: top;\n",
       "    }\n",
       "\n",
       "    .dataframe thead th {\n",
       "        text-align: right;\n",
       "    }\n",
       "</style>\n",
       "<table border=\"1\" class=\"dataframe\">\n",
       "  <thead>\n",
       "    <tr style=\"text-align: right;\">\n",
       "      <th></th>\n",
       "      <th>id</th>\n",
       "      <th>listing_url</th>\n",
       "      <th>scrape_id</th>\n",
       "      <th>last_scraped</th>\n",
       "      <th>source</th>\n",
       "      <th>name</th>\n",
       "      <th>description</th>\n",
       "      <th>neighborhood_overview</th>\n",
       "      <th>picture_url</th>\n",
       "      <th>host_id</th>\n",
       "      <th>...</th>\n",
       "      <th>review_scores_communication</th>\n",
       "      <th>review_scores_location</th>\n",
       "      <th>review_scores_value</th>\n",
       "      <th>license</th>\n",
       "      <th>instant_bookable</th>\n",
       "      <th>calculated_host_listings_count</th>\n",
       "      <th>calculated_host_listings_count_entire_homes</th>\n",
       "      <th>calculated_host_listings_count_private_rooms</th>\n",
       "      <th>calculated_host_listings_count_shared_rooms</th>\n",
       "      <th>reviews_per_month</th>\n",
       "    </tr>\n",
       "  </thead>\n",
       "  <tbody>\n",
       "    <tr>\n",
       "      <th>0</th>\n",
       "      <td>312761</td>\n",
       "      <td>https://www.airbnb.com/rooms/312761</td>\n",
       "      <td>20240319050633</td>\n",
       "      <td>2024-03-21</td>\n",
       "      <td>city scrape</td>\n",
       "      <td>Spacious Central London Apartment by Hoxton Sq...</td>\n",
       "      <td>Very central location, in the middle of Shored...</td>\n",
       "      <td>Everything is so convenient and the area is al...</td>\n",
       "      <td>https://a0.muscache.com/pictures/miso/Hosting-...</td>\n",
       "      <td>1608226</td>\n",
       "      <td>...</td>\n",
       "      <td>5.00</td>\n",
       "      <td>4.89</td>\n",
       "      <td>4.93</td>\n",
       "      <td>NaN</td>\n",
       "      <td>f</td>\n",
       "      <td>1</td>\n",
       "      <td>1</td>\n",
       "      <td>0</td>\n",
       "      <td>0</td>\n",
       "      <td>0.86</td>\n",
       "    </tr>\n",
       "    <tr>\n",
       "      <th>1</th>\n",
       "      <td>13913</td>\n",
       "      <td>https://www.airbnb.com/rooms/13913</td>\n",
       "      <td>20240319050633</td>\n",
       "      <td>2024-03-20</td>\n",
       "      <td>city scrape</td>\n",
       "      <td>Holiday London DB Room Let-on going</td>\n",
       "      <td>My bright double bedroom with a large window h...</td>\n",
       "      <td>Finsbury Park is a friendly melting pot commun...</td>\n",
       "      <td>https://a0.muscache.com/pictures/miso/Hosting-...</td>\n",
       "      <td>54730</td>\n",
       "      <td>...</td>\n",
       "      <td>4.83</td>\n",
       "      <td>4.70</td>\n",
       "      <td>4.70</td>\n",
       "      <td>NaN</td>\n",
       "      <td>f</td>\n",
       "      <td>3</td>\n",
       "      <td>2</td>\n",
       "      <td>1</td>\n",
       "      <td>0</td>\n",
       "      <td>0.25</td>\n",
       "    </tr>\n",
       "    <tr>\n",
       "      <th>2</th>\n",
       "      <td>15400</td>\n",
       "      <td>https://www.airbnb.com/rooms/15400</td>\n",
       "      <td>20240319050633</td>\n",
       "      <td>2024-03-20</td>\n",
       "      <td>city scrape</td>\n",
       "      <td>Bright Chelsea  Apartment. Chelsea!</td>\n",
       "      <td>Lots of windows and light.  St Luke's Gardens ...</td>\n",
       "      <td>It is Chelsea.</td>\n",
       "      <td>https://a0.muscache.com/pictures/428392/462d26...</td>\n",
       "      <td>60302</td>\n",
       "      <td>...</td>\n",
       "      <td>4.83</td>\n",
       "      <td>4.93</td>\n",
       "      <td>4.74</td>\n",
       "      <td>NaN</td>\n",
       "      <td>f</td>\n",
       "      <td>1</td>\n",
       "      <td>1</td>\n",
       "      <td>0</td>\n",
       "      <td>0</td>\n",
       "      <td>0.54</td>\n",
       "    </tr>\n",
       "    <tr>\n",
       "      <th>3</th>\n",
       "      <td>159736</td>\n",
       "      <td>https://www.airbnb.com/rooms/159736</td>\n",
       "      <td>20240319050633</td>\n",
       "      <td>2024-03-20</td>\n",
       "      <td>city scrape</td>\n",
       "      <td>A double Room 5mins from King's College Hospital</td>\n",
       "      <td>Calm sunny double room with a queen size bed a...</td>\n",
       "      <td>We love that in Loughborough Junction we live ...</td>\n",
       "      <td>https://a0.muscache.com/pictures/1067303/d2300...</td>\n",
       "      <td>766056</td>\n",
       "      <td>...</td>\n",
       "      <td>4.89</td>\n",
       "      <td>4.34</td>\n",
       "      <td>4.66</td>\n",
       "      <td>NaN</td>\n",
       "      <td>f</td>\n",
       "      <td>4</td>\n",
       "      <td>0</td>\n",
       "      <td>4</td>\n",
       "      <td>0</td>\n",
       "      <td>0.62</td>\n",
       "    </tr>\n",
       "    <tr>\n",
       "      <th>4</th>\n",
       "      <td>165336</td>\n",
       "      <td>https://www.airbnb.com/rooms/165336</td>\n",
       "      <td>20240319050633</td>\n",
       "      <td>2024-03-21</td>\n",
       "      <td>city scrape</td>\n",
       "      <td>Charming Flat in Notting Hill</td>\n",
       "      <td>A stylish apartment close to Portobello market...</td>\n",
       "      <td>Notting Hill has many cafes, bars and restaura...</td>\n",
       "      <td>https://a0.muscache.com/pictures/60757460/47f8...</td>\n",
       "      <td>761400</td>\n",
       "      <td>...</td>\n",
       "      <td>4.96</td>\n",
       "      <td>4.87</td>\n",
       "      <td>4.71</td>\n",
       "      <td>NaN</td>\n",
       "      <td>f</td>\n",
       "      <td>1</td>\n",
       "      <td>1</td>\n",
       "      <td>0</td>\n",
       "      <td>0</td>\n",
       "      <td>1.57</td>\n",
       "    </tr>\n",
       "  </tbody>\n",
       "</table>\n",
       "<p>5 rows × 75 columns</p>\n",
       "</div>"
      ],
      "text/plain": [
       "       id                          listing_url       scrape_id last_scraped  \\\n",
       "0  312761  https://www.airbnb.com/rooms/312761  20240319050633   2024-03-21   \n",
       "1   13913   https://www.airbnb.com/rooms/13913  20240319050633   2024-03-20   \n",
       "2   15400   https://www.airbnb.com/rooms/15400  20240319050633   2024-03-20   \n",
       "3  159736  https://www.airbnb.com/rooms/159736  20240319050633   2024-03-20   \n",
       "4  165336  https://www.airbnb.com/rooms/165336  20240319050633   2024-03-21   \n",
       "\n",
       "        source                                               name  \\\n",
       "0  city scrape  Spacious Central London Apartment by Hoxton Sq...   \n",
       "1  city scrape                Holiday London DB Room Let-on going   \n",
       "2  city scrape                Bright Chelsea  Apartment. Chelsea!   \n",
       "3  city scrape   A double Room 5mins from King's College Hospital   \n",
       "4  city scrape                      Charming Flat in Notting Hill   \n",
       "\n",
       "                                         description  \\\n",
       "0  Very central location, in the middle of Shored...   \n",
       "1  My bright double bedroom with a large window h...   \n",
       "2  Lots of windows and light.  St Luke's Gardens ...   \n",
       "3  Calm sunny double room with a queen size bed a...   \n",
       "4  A stylish apartment close to Portobello market...   \n",
       "\n",
       "                               neighborhood_overview  \\\n",
       "0  Everything is so convenient and the area is al...   \n",
       "1  Finsbury Park is a friendly melting pot commun...   \n",
       "2                                     It is Chelsea.   \n",
       "3  We love that in Loughborough Junction we live ...   \n",
       "4  Notting Hill has many cafes, bars and restaura...   \n",
       "\n",
       "                                         picture_url  host_id  ...  \\\n",
       "0  https://a0.muscache.com/pictures/miso/Hosting-...  1608226  ...   \n",
       "1  https://a0.muscache.com/pictures/miso/Hosting-...    54730  ...   \n",
       "2  https://a0.muscache.com/pictures/428392/462d26...    60302  ...   \n",
       "3  https://a0.muscache.com/pictures/1067303/d2300...   766056  ...   \n",
       "4  https://a0.muscache.com/pictures/60757460/47f8...   761400  ...   \n",
       "\n",
       "  review_scores_communication review_scores_location review_scores_value  \\\n",
       "0                        5.00                   4.89                4.93   \n",
       "1                        4.83                   4.70                4.70   \n",
       "2                        4.83                   4.93                4.74   \n",
       "3                        4.89                   4.34                4.66   \n",
       "4                        4.96                   4.87                4.71   \n",
       "\n",
       "  license instant_bookable calculated_host_listings_count  \\\n",
       "0     NaN                f                              1   \n",
       "1     NaN                f                              3   \n",
       "2     NaN                f                              1   \n",
       "3     NaN                f                              4   \n",
       "4     NaN                f                              1   \n",
       "\n",
       "  calculated_host_listings_count_entire_homes  \\\n",
       "0                                           1   \n",
       "1                                           2   \n",
       "2                                           1   \n",
       "3                                           0   \n",
       "4                                           1   \n",
       "\n",
       "  calculated_host_listings_count_private_rooms  \\\n",
       "0                                            0   \n",
       "1                                            1   \n",
       "2                                            0   \n",
       "3                                            4   \n",
       "4                                            0   \n",
       "\n",
       "  calculated_host_listings_count_shared_rooms reviews_per_month  \n",
       "0                                           0              0.86  \n",
       "1                                           0              0.25  \n",
       "2                                           0              0.54  \n",
       "3                                           0              0.62  \n",
       "4                                           0              1.57  \n",
       "\n",
       "[5 rows x 75 columns]"
      ]
     },
     "execution_count": 7,
     "metadata": {},
     "output_type": "execute_result"
    }
   ],
   "source": [
    "airbnb_list = pd.read_csv(airbnb_path)\n",
    "airbnb_list.head()"
   ]
  },
  {
   "cell_type": "code",
   "execution_count": 8,
   "metadata": {},
   "outputs": [
    {
     "data": {
      "text/plain": [
       "Index(['id', 'listing_url', 'scrape_id', 'last_scraped', 'source', 'name',\n",
       "       'description', 'neighborhood_overview', 'picture_url', 'host_id',\n",
       "       'host_url', 'host_name', 'host_since', 'host_location', 'host_about',\n",
       "       'host_response_time', 'host_response_rate', 'host_acceptance_rate',\n",
       "       'host_is_superhost', 'host_thumbnail_url', 'host_picture_url',\n",
       "       'host_neighbourhood', 'host_listings_count',\n",
       "       'host_total_listings_count', 'host_verifications',\n",
       "       'host_has_profile_pic', 'host_identity_verified', 'neighbourhood',\n",
       "       'neighbourhood_cleansed', 'neighbourhood_group_cleansed', 'latitude',\n",
       "       'longitude', 'property_type', 'room_type', 'accommodates', 'bathrooms',\n",
       "       'bathrooms_text', 'bedrooms', 'beds', 'amenities', 'price',\n",
       "       'minimum_nights', 'maximum_nights', 'minimum_minimum_nights',\n",
       "       'maximum_minimum_nights', 'minimum_maximum_nights',\n",
       "       'maximum_maximum_nights', 'minimum_nights_avg_ntm',\n",
       "       'maximum_nights_avg_ntm', 'calendar_updated', 'has_availability',\n",
       "       'availability_30', 'availability_60', 'availability_90',\n",
       "       'availability_365', 'calendar_last_scraped', 'number_of_reviews',\n",
       "       'number_of_reviews_ltm', 'number_of_reviews_l30d', 'first_review',\n",
       "       'last_review', 'review_scores_rating', 'review_scores_accuracy',\n",
       "       'review_scores_cleanliness', 'review_scores_checkin',\n",
       "       'review_scores_communication', 'review_scores_location',\n",
       "       'review_scores_value', 'license', 'instant_bookable',\n",
       "       'calculated_host_listings_count',\n",
       "       'calculated_host_listings_count_entire_homes',\n",
       "       'calculated_host_listings_count_private_rooms',\n",
       "       'calculated_host_listings_count_shared_rooms', 'reviews_per_month'],\n",
       "      dtype='object')"
      ]
     },
     "execution_count": 8,
     "metadata": {},
     "output_type": "execute_result"
    }
   ],
   "source": [
    "airbnb_list.columns"
   ]
  },
  {
   "cell_type": "code",
   "execution_count": 9,
   "metadata": {},
   "outputs": [
    {
     "name": "stdout",
     "output_type": "stream",
     "text": [
      "<class 'pandas.core.frame.DataFrame'>\n",
      "RangeIndex: 90852 entries, 0 to 90851\n",
      "Data columns (total 75 columns):\n",
      " #   Column                                        Non-Null Count  Dtype  \n",
      "---  ------                                        --------------  -----  \n",
      " 0   id                                            90852 non-null  int64  \n",
      " 1   listing_url                                   90852 non-null  object \n",
      " 2   scrape_id                                     90852 non-null  int64  \n",
      " 3   last_scraped                                  90852 non-null  object \n",
      " 4   source                                        90852 non-null  object \n",
      " 5   name                                          90852 non-null  object \n",
      " 6   description                                   87851 non-null  object \n",
      " 7   neighborhood_overview                         47521 non-null  object \n",
      " 8   picture_url                                   90842 non-null  object \n",
      " 9   host_id                                       90852 non-null  int64  \n",
      " 10  host_url                                      90852 non-null  object \n",
      " 11  host_name                                     90847 non-null  object \n",
      " 12  host_since                                    90847 non-null  object \n",
      " 13  host_location                                 70566 non-null  object \n",
      " 14  host_about                                    46814 non-null  object \n",
      " 15  host_response_time                            57797 non-null  object \n",
      " 16  host_response_rate                            57797 non-null  object \n",
      " 17  host_acceptance_rate                          65213 non-null  object \n",
      " 18  host_is_superhost                             90463 non-null  object \n",
      " 19  host_thumbnail_url                            90847 non-null  object \n",
      " 20  host_picture_url                              90847 non-null  object \n",
      " 21  host_neighbourhood                            46955 non-null  object \n",
      " 22  host_listings_count                           90847 non-null  float64\n",
      " 23  host_total_listings_count                     90847 non-null  float64\n",
      " 24  host_verifications                            90847 non-null  object \n",
      " 25  host_has_profile_pic                          90847 non-null  object \n",
      " 26  host_identity_verified                        90847 non-null  object \n",
      " 27  neighbourhood                                 47522 non-null  object \n",
      " 28  neighbourhood_cleansed                        90852 non-null  object \n",
      " 29  neighbourhood_group_cleansed                  0 non-null      float64\n",
      " 30  latitude                                      90852 non-null  float64\n",
      " 31  longitude                                     90852 non-null  float64\n",
      " 32  property_type                                 90852 non-null  object \n",
      " 33  room_type                                     90852 non-null  object \n",
      " 34  accommodates                                  90852 non-null  int64  \n",
      " 35  bathrooms                                     57894 non-null  float64\n",
      " 36  bathrooms_text                                90722 non-null  object \n",
      " 37  bedrooms                                      78118 non-null  float64\n",
      " 38  beds                                          57837 non-null  float64\n",
      " 39  amenities                                     90852 non-null  object \n",
      " 40  price                                         57885 non-null  object \n",
      " 41  minimum_nights                                90852 non-null  int64  \n",
      " 42  maximum_nights                                90852 non-null  int64  \n",
      " 43  minimum_minimum_nights                        90851 non-null  float64\n",
      " 44  maximum_minimum_nights                        90851 non-null  float64\n",
      " 45  minimum_maximum_nights                        90851 non-null  float64\n",
      " 46  maximum_maximum_nights                        90851 non-null  float64\n",
      " 47  minimum_nights_avg_ntm                        90851 non-null  float64\n",
      " 48  maximum_nights_avg_ntm                        90851 non-null  float64\n",
      " 49  calendar_updated                              0 non-null      float64\n",
      " 50  has_availability                              86773 non-null  object \n",
      " 51  availability_30                               90852 non-null  int64  \n",
      " 52  availability_60                               90852 non-null  int64  \n",
      " 53  availability_90                               90852 non-null  int64  \n",
      " 54  availability_365                              90852 non-null  int64  \n",
      " 55  calendar_last_scraped                         90852 non-null  object \n",
      " 56  number_of_reviews                             90852 non-null  int64  \n",
      " 57  number_of_reviews_ltm                         90852 non-null  int64  \n",
      " 58  number_of_reviews_l30d                        90852 non-null  int64  \n",
      " 59  first_review                                  65869 non-null  object \n",
      " 60  last_review                                   65869 non-null  object \n",
      " 61  review_scores_rating                          65869 non-null  float64\n",
      " 62  review_scores_accuracy                        65838 non-null  float64\n",
      " 63  review_scores_cleanliness                     65843 non-null  float64\n",
      " 64  review_scores_checkin                         65808 non-null  float64\n",
      " 65  review_scores_communication                   65833 non-null  float64\n",
      " 66  review_scores_location                        65808 non-null  float64\n",
      " 67  review_scores_value                           65806 non-null  float64\n",
      " 68  license                                       0 non-null      float64\n",
      " 69  instant_bookable                              90852 non-null  object \n",
      " 70  calculated_host_listings_count                90852 non-null  int64  \n",
      " 71  calculated_host_listings_count_entire_homes   90852 non-null  int64  \n",
      " 72  calculated_host_listings_count_private_rooms  90852 non-null  int64  \n",
      " 73  calculated_host_listings_count_shared_rooms   90852 non-null  int64  \n",
      " 74  reviews_per_month                             65869 non-null  float64\n",
      "dtypes: float64(24), int64(17), object(34)\n",
      "memory usage: 52.0+ MB\n"
     ]
    }
   ],
   "source": [
    "airbnb_list.info()"
   ]
  },
  {
   "cell_type": "markdown",
   "metadata": {},
   "source": [
    "Capacity and Pricing Analysis\n",
    "   - How does the price of listings correlate with the number of accommodations (e.g., accommodates 2 vs. 6)?\n",
    "   - What is the relationship between the number of bedrooms or beds and the price of listings?"
   ]
  },
  {
   "cell_type": "code",
   "execution_count": null,
   "metadata": {},
   "outputs": [],
   "source": []
  },
  {
   "cell_type": "markdown",
   "metadata": {},
   "source": [
    "Amenities and Pricing\n",
    "   - Which amenities are most commonly found in higher-priced listings?\n",
    "   - How does the number of amenities offered impact the review scores or pricing?"
   ]
  },
  {
   "cell_type": "code",
   "execution_count": null,
   "metadata": {},
   "outputs": [],
   "source": []
  },
  {
   "cell_type": "code",
   "execution_count": null,
   "metadata": {},
   "outputs": [],
   "source": []
  },
  {
   "cell_type": "markdown",
   "metadata": {},
   "source": [
    "Bathroom and Bedroom Analysis\n",
    "   - Is there a correlation between the number of bathrooms and the price of the listing?\n",
    "   - How does the average number of bedrooms relate to the listing price?"
   ]
  },
  {
   "cell_type": "markdown",
   "metadata": {},
   "source": []
  },
  {
   "cell_type": "markdown",
   "metadata": {},
   "source": [
    "Review Scores Examination\n",
    "   - How do review scores (accuracy and overall rating) vary by property type or room type?\n",
    "   - Is there a relationship between review scores and the number of amenities offered?\n"
   ]
  },
  {
   "cell_type": "code",
   "execution_count": null,
   "metadata": {},
   "outputs": [],
   "source": []
  },
  {
   "cell_type": "code",
   "execution_count": null,
   "metadata": {},
   "outputs": [],
   "source": []
  },
  {
   "cell_type": "code",
   "execution_count": null,
   "metadata": {},
   "outputs": [],
   "source": []
  },
  {
   "cell_type": "markdown",
   "metadata": {},
   "source": [
    "Trend Analysis\n",
    "   - Are there any observable trends in pricing or review scores over time within different neighborhoods or property types?\n",
    "   - How do the review scores change with seasonal variations in pricing?\n"
   ]
  },
  {
   "cell_type": "code",
   "execution_count": null,
   "metadata": {},
   "outputs": [],
   "source": []
  },
  {
   "cell_type": "code",
   "execution_count": null,
   "metadata": {},
   "outputs": [],
   "source": []
  },
  {
   "cell_type": "code",
   "execution_count": null,
   "metadata": {},
   "outputs": [],
   "source": []
  },
  {
   "cell_type": "code",
   "execution_count": null,
   "metadata": {},
   "outputs": [],
   "source": []
  },
  {
   "cell_type": "markdown",
   "metadata": {},
   "source": [
    "Outlier Detection\n",
    "   - Are there any outliers in pricing or review scores based on the number of bedrooms, bathrooms, or amenities?\n",
    "   - What factors contribute to high or low review scores in specific neighborhoods?"
   ]
  },
  {
   "cell_type": "code",
   "execution_count": null,
   "metadata": {},
   "outputs": [],
   "source": []
  },
  {
   "cell_type": "code",
   "execution_count": null,
   "metadata": {},
   "outputs": [],
   "source": []
  },
  {
   "cell_type": "code",
   "execution_count": null,
   "metadata": {},
   "outputs": [],
   "source": []
  },
  {
   "cell_type": "markdown",
   "metadata": {},
   "source": [
    "Spatial Distribution:\n",
    "\n",
    "- How does the spatial distribution of listings with high review scores compare to those with lower scores?\n",
    "- Are there specific areas where higher-priced properties tend to cluster?\n",
    "- How does the average price of listings vary by neighborhood or neighborhood group?\n",
    "- Are there significant differences in average review scores between different neighborhoods or neighborhood groups?"
   ]
  },
  {
   "cell_type": "code",
   "execution_count": 16,
   "metadata": {},
   "outputs": [
    {
     "data": {
      "text/plain": [
       "<Axes: >"
      ]
     },
     "execution_count": 16,
     "metadata": {},
     "output_type": "execute_result"
    },
    {
     "data": {
      "image/png": "[encoded data removed]",
      "text/plain": [
       "<Figure size 640x480 with 1 Axes>"
      ]
     },
     "metadata": {},
     "output_type": "display_data"
    }
   ],
   "source": [
    "# Convert to GeoDataFrame\n",
    "gdf_airbnb = gpd.GeoDataFrame(\n",
    "    airbnb_list,\n",
    "    geometry=gpd.points_from_xy(airbnb_list['longitude'], airbnb_list['latitude']),\n",
    "    crs=\"EPSG:4326\"  # WGS84 coordinate system\n",
    ")\n",
    "\n",
    "# Display the data via a plot\n",
    "gdf_airbnb.plot()"
   ]
  },
  {
   "cell_type": "code",
   "execution_count": null,
   "metadata": {},
   "outputs": [],
   "source": [
    "neighbourhood',\n",
    "       'neighbourhood_cleansed', 'neighbourhood_group_cleansed', 'latitude',\n",
    "       'longitude', 'property_type', 'room_type', 'accommodates', 'bathrooms',\n",
    "       'bathrooms_text', 'bedrooms', 'beds', 'amenities', 'price',\n",
    "\n",
    "        'review_scores_rating', 'review_scores_accuracy','reviews_per_month'\n",
    "\n"
   ]
  },
  {
   "cell_type": "markdown",
   "metadata": {},
   "source": []
  },
  {
   "cell_type": "code",
   "execution_count": null,
   "metadata": {},
   "outputs": [],
   "source": []
  },
  {
   "cell_type": "markdown",
   "metadata": {},
   "source": []
  },
  {
   "cell_type": "code",
   "execution_count": null,
   "metadata": {},
   "outputs": [],
   "source": []
  },
  {
   "cell_type": "code",
   "execution_count": null,
   "metadata": {},
   "outputs": [],
   "source": []
  },
  {
   "cell_type": "markdown",
   "metadata": {},
   "source": []
  },
  {
   "cell_type": "code",
   "execution_count": null,
   "metadata": {},
   "outputs": [],
   "source": []
  },
  {
   "cell_type": "markdown",
   "metadata": {},
   "source": [
    "Housing Prices Data"
   ]
  },
  {
   "cell_type": "markdown",
   "metadata": {},
   "source": [
    "**Property Type Insights:**\n",
    "   - What is the distribution of property types (e.g., entire home, private room) across different neighborhoods?\n",
    "   - How does the average price differ between various property types?"
   ]
  },
  {
   "cell_type": "code",
   "execution_count": null,
   "metadata": {},
   "outputs": [],
   "source": []
  },
  {
   "cell_type": "markdown",
   "metadata": {},
   "source": [
    "Shortlet Market Data"
   ]
  },
  {
   "cell_type": "markdown",
   "metadata": {},
   "source": [
    "**Room Type Comparisons:**\n",
    "   - How does the average rating of listings vary between different room types (e.g., shared room, private room)?\n",
    "   - Is there a correlation between room type and the number of amenities offered?"
   ]
  },
  {
   "cell_type": "code",
   "execution_count": null,
   "metadata": {},
   "outputs": [],
   "source": []
  },
  {
   "cell_type": "markdown",
   "metadata": {},
   "source": []
  },
  {
   "cell_type": "markdown",
   "metadata": {},
   "source": [
    "## Spatial Analysis\n",
    "Geocoding and plotting data on maps. Performing hotspot analysis, spatial autocorrelation, and kernel density estimation.\n"
   ]
  },
  {
   "cell_type": "markdown",
   "metadata": {},
   "source": [
    "1. **Map the Spatial Distribution of Airbnb Listings:**\n",
    "   - Geocode Airbnb listings to visualize their distribution across different regions in the UK.\n",
    "   - Use Kernel Density Estimation (KDE) to identify areas of high Airbnb concentration."
   ]
  },
  {
   "cell_type": "code",
   "execution_count": null,
   "metadata": {},
   "outputs": [],
   "source": [
    "# plot the kernel density map\n",
    "# set up the figure and axes\n",
    "fig, axs = plt.subplots(1,2,figsize=(16,6))\n",
    "\n",
    "# uisng KDE plot to plot the density maps\n",
    "sns.kdeplot(\n",
    "    data=airbnb_list,\n",
    "    x='longitude',\n",
    "    y='latitude',\n",
    "    n_levels=75,\n",
    "    shade=True,\n",
    "    fill=True,\n",
    "    levels=90,\n",
    "    alpha=0.55,\n",
    "    linewidths=1.5,\n",
    "    cmap=plt.get_cmap('jet'),\n",
    "    ax=axs[0]\n",
    ")\n",
    "\n",
    "# Generate and add the scatter plot to the second axis\n",
    "sns.scatterplot(\n",
    "    data=airbnb_list,\n",
    "    x=\"longitude\",\n",
    "    y=\"latitude\",\n",
    "    alpha=0.5,\n",
    "    color='blue',\n",
    "    ax=axs[1]\n",
    ")\n",
    "\n",
    "# Set titles for the plots\n",
    "axs[0].set_title(\"KDE Plot\")\n",
    "axs[1].set_title(\"location plot\")\n",
    "\n",
    "\n"
   ]
  },
  {
   "cell_type": "markdown",
   "metadata": {},
   "source": [
    "2. **Identify Clusters and Spatial Patterns:**\n",
    "   - Apply Hotspot Analysis (Getis-Ord Gi*) to detect statistically significant clusters of Airbnb activity.\n",
    "   - Measure spatial autocorrelation (Moran's I) to determine the degree of spatial dependency among Airbnb listings."
   ]
  },
  {
   "cell_type": "code",
   "execution_count": null,
   "metadata": {},
   "outputs": [],
   "source": [
    "# Create a spatial weights matrix based on the data's spatial coordinates\n",
    "w = lib.weights.distance.KNN.from_dataframe(airbnb_list, k=10)\n",
    "\n",
    "# Calculate Moran's I for the spatial coordinates\n",
    "moran = esda.Moran(airbnb_list['Latitude'],w)\n",
    "\n",
    "# Print the Moran's I statistic and p-value\n",
    "print(f\"Moran's I: {moran.I:.2f}\")\n",
    "print(f\"p-value: {moran.p_sim:.3f}\")\n",
    "\n",
    "plot_moran(moran, zstandard=True, figsize=(10,4))\n",
    "plt.show()"
   ]
  },
  {
   "cell_type": "markdown",
   "metadata": {},
   "source": [
    "3. **Analyze the Impact of Proximity to Amenities:**\n",
    "   - Conduct Proximity Analysis to assess how the distance to key amenities (e.g., transport hubs, tourist attractions) affects Airbnb pricing and availability."
   ]
  },
  {
   "cell_type": "code",
   "execution_count": null,
   "metadata": {},
   "outputs": [],
   "source": []
  },
  {
   "cell_type": "markdown",
   "metadata": {},
   "source": [
    "## Regression and Impact Analysis\n",
    "Running spatial regression models to assess the impact of Airbnb listings on housing prices.\n"
   ]
  },
  {
   "cell_type": "markdown",
   "metadata": {},
   "source": [
    "4. **Examine the Relationship Between Airbnb Listings and Housing Prices:**\n",
    "   - Perform a Spatial Lag Model regression to account for spatial dependencies in housing prices influenced by nearby Airbnb activity.\n",
    "   - Utilize Geographically Weighted Regression (GWR) to explore how the relationship between Airbnb listings and housing prices varies spatially across the UK."
   ]
  },
  {
   "cell_type": "code",
   "execution_count": null,
   "metadata": {},
   "outputs": [],
   "source": []
  },
  {
   "cell_type": "code",
   "execution_count": null,
   "metadata": {},
   "outputs": [],
   "source": []
  },
  {
   "cell_type": "code",
   "execution_count": null,
   "metadata": {},
   "outputs": [],
   "source": []
  },
  {
   "cell_type": "code",
   "execution_count": null,
   "metadata": {},
   "outputs": [],
   "source": []
  },
  {
   "cell_type": "markdown",
   "metadata": {},
   "source": [
    "## Visualization\n",
    "Creating choropleth maps and other visualizations to illustrate findings.\n"
   ]
  },
  {
   "cell_type": "markdown",
   "metadata": {},
   "source": [
    "5. **Visualize Socioeconomic Factors and Airbnb Density:**\n",
    "   - Create Choropleth Maps to visualize the distribution of variables such as median income, housing prices, and Airbnb density across different regions."
   ]
  },
  {
   "cell_type": "code",
   "execution_count": null,
   "metadata": {},
   "outputs": [],
   "source": []
  },
  {
   "cell_type": "code",
   "execution_count": null,
   "metadata": {},
   "outputs": [],
   "source": []
  },
  {
   "cell_type": "markdown",
   "metadata": {},
   "source": [
    "## Conducting impact analysis on the short-let market."
   ]
  },
  {
   "cell_type": "markdown",
   "metadata": {},
   "source": [
    "6. **Assess the Impact of Airbnb on Local Housing Markets:**\n",
    "   - Conduct an Impact Analysis to examine how Airbnb density correlates with changes in housing prices and the availability of long-term rentals.\n",
    "   - Use Buffer Analysis to study the effect of proximity to city centres and other key areas on Airbnb pricing and availability.\n"
   ]
  },
  {
   "cell_type": "code",
   "execution_count": null,
   "metadata": {},
   "outputs": [],
   "source": []
  },
  {
   "cell_type": "markdown",
   "metadata": {},
   "source": [
    "   7. **Evaluate Connectivity and Accessibility:**\n",
    "   - Perform Network Analysis to assess the connectivity of Airbnb listings to transport networks and its influence on pricing and availability."
   ]
  },
  {
   "cell_type": "markdown",
   "metadata": {},
   "source": [
    "## Conclusions and Recommendations\n",
    "Summarizing key findings and providing policy recommendations.\n"
   ]
  },
  {
   "cell_type": "markdown",
   "metadata": {},
   "source": []
  },
  {
   "cell_type": "markdown",
   "metadata": {},
   "source": [
    "## Appendix\n",
    "Including any additional analyses or data pre-processing steps."
   ]
  }
 ],
 "metadata": {
  "kernelspec": {
   "display_name": ".venv",
   "language": "python",
   "name": "python3"
  },
  "language_info": {
   "codemirror_mode": {
    "name": "ipython",
    "version": 3
   },
   "file_extension": ".py",
   "mimetype": "text/x-python",
   "name": "python",
   "nbconvert_exporter": "python",
   "pygments_lexer": "ipython3",
   "version": "3.9.8"
  }
 },
 "nbformat": 4,
 "nbformat_minor": 2
}
